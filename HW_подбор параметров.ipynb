{
 "cells": [
  {
   "cell_type": "markdown",
   "metadata": {},
   "source": [
    "Взять boston house-prices datase (sklearn.datasets.load_boston). Возмите 7 любых регрессоров (попробовать разные алгоритмы, поподбирать параметры, вывести итоговое качество)."
   ]
  },
  {
   "cell_type": "code",
   "execution_count": 2,
   "metadata": {},
   "outputs": [],
   "source": [
    "from sklearn import datasets\n",
    "from matplotlib import pyplot as plt\n",
    "from sklearn.preprocessing import StandardScaler\n",
    "from sklearn.model_selection import train_test_split, GridSearchCV\n",
    "from sklearn.linear_model import Lasso, Ridge, HuberRegressor, ElasticNet\n",
    "from sklearn.tree import DecisionTreeRegressor\n",
    "from sklearn.linear_model import LinearRegression\n",
    "from sklearn.kernel_ridge import KernelRidge\n",
    "from lightgbm import LGBMRegressor\n",
    "from sklearn.linear_model import BayesianRidge\n",
    "%matplotlib inline\n",
    "import numpy as np\n",
    "import pandas as pd\n",
    "import random"
   ]
  },
  {
   "cell_type": "code",
   "execution_count": 3,
   "metadata": {},
   "outputs": [],
   "source": [
    "random.seed(42)"
   ]
  },
  {
   "cell_type": "code",
   "execution_count": 4,
   "metadata": {},
   "outputs": [],
   "source": [
    "boston = datasets.load_boston()"
   ]
  },
  {
   "cell_type": "code",
   "execution_count": 5,
   "metadata": {},
   "outputs": [
    {
     "data": {
      "text/html": [
       "<div>\n",
       "<style scoped>\n",
       "    .dataframe tbody tr th:only-of-type {\n",
       "        vertical-align: middle;\n",
       "    }\n",
       "\n",
       "    .dataframe tbody tr th {\n",
       "        vertical-align: top;\n",
       "    }\n",
       "\n",
       "    .dataframe thead th {\n",
       "        text-align: right;\n",
       "    }\n",
       "</style>\n",
       "<table border=\"1\" class=\"dataframe\">\n",
       "  <thead>\n",
       "    <tr style=\"text-align: right;\">\n",
       "      <th></th>\n",
       "      <th>CRIM</th>\n",
       "      <th>ZN</th>\n",
       "      <th>INDUS</th>\n",
       "      <th>CHAS</th>\n",
       "      <th>NOX</th>\n",
       "      <th>RM</th>\n",
       "      <th>AGE</th>\n",
       "      <th>DIS</th>\n",
       "      <th>RAD</th>\n",
       "      <th>TAX</th>\n",
       "      <th>PTRATIO</th>\n",
       "      <th>B</th>\n",
       "      <th>LSTAT</th>\n",
       "    </tr>\n",
       "  </thead>\n",
       "  <tbody>\n",
       "    <tr>\n",
       "      <th>0</th>\n",
       "      <td>0.00632</td>\n",
       "      <td>18.0</td>\n",
       "      <td>2.31</td>\n",
       "      <td>0.0</td>\n",
       "      <td>0.538</td>\n",
       "      <td>6.575</td>\n",
       "      <td>65.2</td>\n",
       "      <td>4.0900</td>\n",
       "      <td>1.0</td>\n",
       "      <td>296.0</td>\n",
       "      <td>15.3</td>\n",
       "      <td>396.90</td>\n",
       "      <td>4.98</td>\n",
       "    </tr>\n",
       "    <tr>\n",
       "      <th>1</th>\n",
       "      <td>0.02731</td>\n",
       "      <td>0.0</td>\n",
       "      <td>7.07</td>\n",
       "      <td>0.0</td>\n",
       "      <td>0.469</td>\n",
       "      <td>6.421</td>\n",
       "      <td>78.9</td>\n",
       "      <td>4.9671</td>\n",
       "      <td>2.0</td>\n",
       "      <td>242.0</td>\n",
       "      <td>17.8</td>\n",
       "      <td>396.90</td>\n",
       "      <td>9.14</td>\n",
       "    </tr>\n",
       "    <tr>\n",
       "      <th>2</th>\n",
       "      <td>0.02729</td>\n",
       "      <td>0.0</td>\n",
       "      <td>7.07</td>\n",
       "      <td>0.0</td>\n",
       "      <td>0.469</td>\n",
       "      <td>7.185</td>\n",
       "      <td>61.1</td>\n",
       "      <td>4.9671</td>\n",
       "      <td>2.0</td>\n",
       "      <td>242.0</td>\n",
       "      <td>17.8</td>\n",
       "      <td>392.83</td>\n",
       "      <td>4.03</td>\n",
       "    </tr>\n",
       "    <tr>\n",
       "      <th>3</th>\n",
       "      <td>0.03237</td>\n",
       "      <td>0.0</td>\n",
       "      <td>2.18</td>\n",
       "      <td>0.0</td>\n",
       "      <td>0.458</td>\n",
       "      <td>6.998</td>\n",
       "      <td>45.8</td>\n",
       "      <td>6.0622</td>\n",
       "      <td>3.0</td>\n",
       "      <td>222.0</td>\n",
       "      <td>18.7</td>\n",
       "      <td>394.63</td>\n",
       "      <td>2.94</td>\n",
       "    </tr>\n",
       "    <tr>\n",
       "      <th>4</th>\n",
       "      <td>0.06905</td>\n",
       "      <td>0.0</td>\n",
       "      <td>2.18</td>\n",
       "      <td>0.0</td>\n",
       "      <td>0.458</td>\n",
       "      <td>7.147</td>\n",
       "      <td>54.2</td>\n",
       "      <td>6.0622</td>\n",
       "      <td>3.0</td>\n",
       "      <td>222.0</td>\n",
       "      <td>18.7</td>\n",
       "      <td>396.90</td>\n",
       "      <td>5.33</td>\n",
       "    </tr>\n",
       "  </tbody>\n",
       "</table>\n",
       "</div>"
      ],
      "text/plain": [
       "      CRIM    ZN  INDUS  CHAS    NOX     RM   AGE     DIS  RAD    TAX  \\\n",
       "0  0.00632  18.0   2.31   0.0  0.538  6.575  65.2  4.0900  1.0  296.0   \n",
       "1  0.02731   0.0   7.07   0.0  0.469  6.421  78.9  4.9671  2.0  242.0   \n",
       "2  0.02729   0.0   7.07   0.0  0.469  7.185  61.1  4.9671  2.0  242.0   \n",
       "3  0.03237   0.0   2.18   0.0  0.458  6.998  45.8  6.0622  3.0  222.0   \n",
       "4  0.06905   0.0   2.18   0.0  0.458  7.147  54.2  6.0622  3.0  222.0   \n",
       "\n",
       "   PTRATIO       B  LSTAT  \n",
       "0     15.3  396.90   4.98  \n",
       "1     17.8  396.90   9.14  \n",
       "2     17.8  392.83   4.03  \n",
       "3     18.7  394.63   2.94  \n",
       "4     18.7  396.90   5.33  "
      ]
     },
     "execution_count": 5,
     "metadata": {},
     "output_type": "execute_result"
    }
   ],
   "source": [
    "df = pd.DataFrame(boston.data, columns=boston.feature_names)\n",
    "df.head(5)"
   ]
  },
  {
   "cell_type": "code",
   "execution_count": 6,
   "metadata": {},
   "outputs": [],
   "source": [
    "X, y = boston['data'], boston['target']"
   ]
  },
  {
   "cell_type": "code",
   "execution_count": 7,
   "metadata": {},
   "outputs": [],
   "source": [
    "X_train, X_valid, y_train, y_valid = train_test_split(X, y, test_size=0.2)"
   ]
  },
  {
   "cell_type": "code",
   "execution_count": 8,
   "metadata": {},
   "outputs": [],
   "source": [
    "sc = StandardScaler()\n",
    "X_train = sc.fit_transform(X_train)\n",
    "X_valid = sc.transform(X_valid)"
   ]
  },
  {
   "cell_type": "markdown",
   "metadata": {},
   "source": [
    "1. Ридж"
   ]
  },
  {
   "cell_type": "code",
   "execution_count": 9,
   "metadata": {},
   "outputs": [],
   "source": [
    "rige_reg = Ridge()"
   ]
  },
  {
   "cell_type": "code",
   "execution_count": 10,
   "metadata": {},
   "outputs": [
    {
     "name": "stdout",
     "output_type": "stream",
     "text": [
      "Fitting 10 folds for each of 6000 candidates, totalling 60000 fits\n"
     ]
    },
    {
     "name": "stderr",
     "output_type": "stream",
     "text": [
      "[Parallel(n_jobs=-1)]: Using backend LokyBackend with 8 concurrent workers.\n",
      "[Parallel(n_jobs=-1)]: Done  25 tasks      | elapsed:    3.2s\n",
      "[Parallel(n_jobs=-1)]: Done 672 tasks      | elapsed:    4.7s\n",
      "[Parallel(n_jobs=-1)]: Done 2296 tasks      | elapsed:    7.8s\n",
      "[Parallel(n_jobs=-1)]: Done 4560 tasks      | elapsed:   13.5s\n",
      "[Parallel(n_jobs=-1)]: Done 15600 tasks      | elapsed:   25.4s\n",
      "[Parallel(n_jobs=-1)]: Done 29840 tasks      | elapsed:   40.9s\n",
      "[Parallel(n_jobs=-1)]: Done 46704 tasks      | elapsed:   58.4s\n",
      "[Parallel(n_jobs=-1)]: Done 60000 out of 60000 | elapsed:  1.2min finished\n"
     ]
    },
    {
     "data": {
      "text/plain": [
       "GridSearchCV(cv=10, estimator=Ridge(), n_jobs=-1,\n",
       "             param_grid={'alpha': array([1.00000000e-07, 1.02096066e-07, 1.04236067e-07, 1.06420924e-07,\n",
       "       1.08651577e-07, 1.10928986e-07, 1.13254132e-07, 1.15628013e-07,\n",
       "       1.18051653e-07, 1.20526094e-07, 1.23052400e-07, 1.25631660e-07,\n",
       "       1.28264983e-07, 1.30953502e-07, 1.33698374e-07, 1.36500781e-07,\n",
       "       1.39361927e-07, 1.42283046e-07, 1.4526...\n",
       "       6.74262224e+01, 6.88395207e+01, 7.02824426e+01, 7.17556092e+01,\n",
       "       7.32596543e+01, 7.47952252e+01, 7.63629826e+01, 7.79636013e+01,\n",
       "       7.95977700e+01, 8.12661920e+01, 8.29695852e+01, 8.47086827e+01,\n",
       "       8.64842328e+01, 8.82969996e+01, 9.01477631e+01, 9.20373200e+01,\n",
       "       9.39664831e+01, 9.59360829e+01, 9.79469667e+01, 1.00000000e+02]),\n",
       "                         'solver': ['svd', 'cholesky', 'lsqr', 'sparse_cg',\n",
       "                                    'sag', 'saga']},\n",
       "             verbose=2)"
      ]
     },
     "execution_count": 10,
     "metadata": {},
     "output_type": "execute_result"
    }
   ],
   "source": [
    "rige_params = {\n",
    "    'alpha': np.logspace(-7, 2, 1000),\n",
    "    'solver': ['svd', 'cholesky', 'lsqr', 'sparse_cg', 'sag', 'saga']\n",
    "}\n",
    "grid_rige = GridSearchCV(rige_reg, rige_params, cv=10, verbose=2, n_jobs=-1)\n",
    "grid_rige.fit(X_train, y_train)"
   ]
  },
  {
   "cell_type": "code",
   "execution_count": 11,
   "metadata": {},
   "outputs": [
    {
     "name": "stdout",
     "output_type": "stream",
     "text": [
      "{'alpha': 9.014776314524918, 'solver': 'sag'}\n",
      "0.7125487705221236\n",
      "Ridge(alpha=9.014776314524918, solver='sag')\n"
     ]
    }
   ],
   "source": [
    "print(grid_rige.best_params_)\n",
    "print(grid_rige.best_score_)\n",
    "print(grid_rige.best_estimator_)"
   ]
  },
  {
   "cell_type": "markdown",
   "metadata": {},
   "source": [
    "2. Регрессия Хьюберта"
   ]
  },
  {
   "cell_type": "code",
   "execution_count": 13,
   "metadata": {},
   "outputs": [],
   "source": [
    "huber_reg = HuberRegressor()"
   ]
  },
  {
   "cell_type": "code",
   "execution_count": 14,
   "metadata": {},
   "outputs": [
    {
     "name": "stdout",
     "output_type": "stream",
     "text": [
      "Fitting 10 folds for each of 5000 candidates, totalling 50000 fits\n"
     ]
    },
    {
     "name": "stderr",
     "output_type": "stream",
     "text": [
      "[Parallel(n_jobs=-1)]: Using backend LokyBackend with 8 concurrent workers.\n",
      "[Parallel(n_jobs=-1)]: Done  34 tasks      | elapsed:    0.1s\n",
      "[Parallel(n_jobs=-1)]: Done 896 tasks      | elapsed:    3.2s\n",
      "[Parallel(n_jobs=-1)]: Done 2520 tasks      | elapsed:    8.8s\n",
      "[Parallel(n_jobs=-1)]: Done 4784 tasks      | elapsed:   16.5s\n",
      "[Parallel(n_jobs=-1)]: Done 7704 tasks      | elapsed:   26.5s\n",
      "[Parallel(n_jobs=-1)]: Done 11264 tasks      | elapsed:   38.5s\n",
      "[Parallel(n_jobs=-1)]: Done 15480 tasks      | elapsed:   52.8s\n",
      "[Parallel(n_jobs=-1)]: Done 20336 tasks      | elapsed:  1.2min\n",
      "[Parallel(n_jobs=-1)]: Done 25848 tasks      | elapsed:  1.5min\n",
      "[Parallel(n_jobs=-1)]: Done 32000 tasks      | elapsed:  1.9min\n",
      "[Parallel(n_jobs=-1)]: Done 38808 tasks      | elapsed:  2.2min\n",
      "[Parallel(n_jobs=-1)]: Done 46256 tasks      | elapsed:  2.6min\n",
      "[Parallel(n_jobs=-1)]: Done 50000 out of 50000 | elapsed:  2.7min finished\n"
     ]
    },
    {
     "data": {
      "text/plain": [
       "GridSearchCV(cv=10, estimator=HuberRegressor(), n_jobs=-1,\n",
       "             param_grid={'alpha': array([1.00000000e-07, 1.23284674e-07, 1.51991108e-07, 1.87381742e-07,\n",
       "       2.31012970e-07, 2.84803587e-07, 3.51119173e-07, 4.32876128e-07,\n",
       "       5.33669923e-07, 6.57933225e-07, 8.11130831e-07, 1.00000000e-06,\n",
       "       1.23284674e-06, 1.51991108e-06, 1.87381742e-06, 2.31012970e-06,\n",
       "       2.84803587e-06, 3.51119173e-...\n",
       "       1.54897959, 1.5622449 , 1.5755102 , 1.58877551, 1.60204082,\n",
       "       1.61530612, 1.62857143, 1.64183673, 1.65510204, 1.66836735,\n",
       "       1.68163265, 1.69489796, 1.70816327, 1.72142857, 1.73469388,\n",
       "       1.74795918, 1.76122449, 1.7744898 , 1.7877551 , 1.80102041,\n",
       "       1.81428571, 1.82755102, 1.84081633, 1.85408163, 1.86734694,\n",
       "       1.88061224, 1.89387755, 1.90714286, 1.92040816, 1.93367347,\n",
       "       1.94693878, 1.96020408, 1.97346939, 1.98673469, 2.        ])},\n",
       "             verbose=2)"
      ]
     },
     "execution_count": 14,
     "metadata": {},
     "output_type": "execute_result"
    }
   ],
   "source": [
    "huber_params = {\n",
    "    'alpha': np.logspace(-7, 2, 100),\n",
    "    'epsilon': np.linspace(1.35, 2, 50)\n",
    "}\n",
    "grid_huber = GridSearchCV(huber_reg, huber_params, cv=10, verbose=2, n_jobs=-1)\n",
    "grid_huber.fit(X_train, y_train)"
   ]
  },
  {
   "cell_type": "code",
   "execution_count": 15,
   "metadata": {},
   "outputs": [
    {
     "name": "stdout",
     "output_type": "stream",
     "text": [
      "{'alpha': 1e-07, 'epsilon': 2.0}\n",
      "0.7081654333076002\n",
      "HuberRegressor(alpha=1e-07, epsilon=2.0)\n"
     ]
    }
   ],
   "source": [
    "print(grid_huber.best_params_)\n",
    "print(grid_huber.best_score_)\n",
    "print(grid_huber.best_estimator_)"
   ]
  },
  {
   "cell_type": "markdown",
   "metadata": {},
   "source": [
    "3. Лассо"
   ]
  },
  {
   "cell_type": "code",
   "execution_count": 16,
   "metadata": {},
   "outputs": [],
   "source": [
    "lasso_reg = Lasso()"
   ]
  },
  {
   "cell_type": "code",
   "execution_count": 17,
   "metadata": {},
   "outputs": [
    {
     "name": "stdout",
     "output_type": "stream",
     "text": [
      "Fitting 10 folds for each of 1000 candidates, totalling 10000 fits\n"
     ]
    },
    {
     "name": "stderr",
     "output_type": "stream",
     "text": [
      "[Parallel(n_jobs=-1)]: Using backend LokyBackend with 8 concurrent workers.\n",
      "[Parallel(n_jobs=-1)]: Done  34 tasks      | elapsed:    0.1s\n",
      "[Parallel(n_jobs=-1)]: Done 2608 tasks      | elapsed:    3.1s\n",
      "[Parallel(n_jobs=-1)]: Done 9104 tasks      | elapsed:    8.8s\n",
      "[Parallel(n_jobs=-1)]: Done 10000 out of 10000 | elapsed:    9.3s finished\n"
     ]
    },
    {
     "data": {
      "text/plain": [
       "GridSearchCV(cv=10, estimator=Lasso(), n_jobs=-1,\n",
       "             param_grid={'alpha': array([1.00000000e-07, 1.02096066e-07, 1.04236067e-07, 1.06420924e-07,\n",
       "       1.08651577e-07, 1.10928986e-07, 1.13254132e-07, 1.15628013e-07,\n",
       "       1.18051653e-07, 1.20526094e-07, 1.23052400e-07, 1.25631660e-07,\n",
       "       1.28264983e-07, 1.30953502e-07, 1.33698374e-07, 1.36500781e-07,\n",
       "       1.39361927e-07, 1.42283046e-07, 1.4526...\n",
       "       6.20572881e+01, 6.33580499e+01, 6.46860766e+01, 6.60419396e+01,\n",
       "       6.74262224e+01, 6.88395207e+01, 7.02824426e+01, 7.17556092e+01,\n",
       "       7.32596543e+01, 7.47952252e+01, 7.63629826e+01, 7.79636013e+01,\n",
       "       7.95977700e+01, 8.12661920e+01, 8.29695852e+01, 8.47086827e+01,\n",
       "       8.64842328e+01, 8.82969996e+01, 9.01477631e+01, 9.20373200e+01,\n",
       "       9.39664831e+01, 9.59360829e+01, 9.79469667e+01, 1.00000000e+02])},\n",
       "             verbose=2)"
      ]
     },
     "execution_count": 17,
     "metadata": {},
     "output_type": "execute_result"
    }
   ],
   "source": [
    "lasso_params = {\n",
    "    'alpha': np.logspace(-7, 2, 1000)\n",
    "}\n",
    "grid_lasso = GridSearchCV(lasso_reg, lasso_params, cv=10, verbose=2, n_jobs=-1)\n",
    "grid_lasso.fit(X_train, y_train)"
   ]
  },
  {
   "cell_type": "code",
   "execution_count": 18,
   "metadata": {},
   "outputs": [
    {
     "name": "stdout",
     "output_type": "stream",
     "text": [
      "{'alpha': 0.02066880249629082}\n",
      "0.7116179553575928\n",
      "Lasso(alpha=0.02066880249629082)\n"
     ]
    }
   ],
   "source": [
    "print(grid_lasso.best_params_)\n",
    "print(grid_lasso.best_score_)\n",
    "print(grid_lasso.best_estimator_)"
   ]
  },
  {
   "cell_type": "markdown",
   "metadata": {},
   "source": [
    "4. DecisionTree"
   ]
  },
  {
   "cell_type": "code",
   "execution_count": 19,
   "metadata": {},
   "outputs": [],
   "source": [
    "tree_reg = DecisionTreeRegressor()"
   ]
  },
  {
   "cell_type": "code",
   "execution_count": 20,
   "metadata": {},
   "outputs": [
    {
     "name": "stdout",
     "output_type": "stream",
     "text": [
      "Fitting 10 folds for each of 300 candidates, totalling 3000 fits\n"
     ]
    },
    {
     "name": "stderr",
     "output_type": "stream",
     "text": [
      "[Parallel(n_jobs=-1)]: Using backend LokyBackend with 8 concurrent workers.\n",
      "[Parallel(n_jobs=-1)]: Done  34 tasks      | elapsed:    0.2s\n",
      "[Parallel(n_jobs=-1)]: Done 2578 tasks      | elapsed:    4.4s\n",
      "[Parallel(n_jobs=-1)]: Done 3000 out of 3000 | elapsed:    4.9s finished\n"
     ]
    },
    {
     "data": {
      "text/plain": [
       "GridSearchCV(cv=10, estimator=DecisionTreeRegressor(), n_jobs=-1,\n",
       "             param_grid={'criterion': ['mse', 'mae', 'friedman_mse'],\n",
       "                         'max_depth': range(1, 11),\n",
       "                         'min_samples_leaf': [1, 2, 4, 8, 16],\n",
       "                         'splitter': ['best', 'random']},\n",
       "             verbose=2)"
      ]
     },
     "execution_count": 20,
     "metadata": {},
     "output_type": "execute_result"
    }
   ],
   "source": [
    "tree_params = {\n",
    "    'max_depth': range(1, 11),\n",
    "    'splitter': ['best', 'random'],\n",
    "    'criterion': ['mse', 'mae', 'friedman_mse'],\n",
    "    'min_samples_leaf': [1, 2, 4, 8, 16]\n",
    "}\n",
    "grid_tree = GridSearchCV(tree_reg, tree_params, cv=10, verbose=2, n_jobs=-1)\n",
    "grid_tree.fit(X_train, y_train)"
   ]
  },
  {
   "cell_type": "code",
   "execution_count": 21,
   "metadata": {},
   "outputs": [
    {
     "name": "stdout",
     "output_type": "stream",
     "text": [
      "{'criterion': 'mse', 'max_depth': 10, 'min_samples_leaf': 1, 'splitter': 'best'}\n",
      "0.7884493345356298\n",
      "DecisionTreeRegressor(max_depth=10)\n"
     ]
    }
   ],
   "source": [
    "print(grid_tree.best_params_)\n",
    "print(grid_tree.best_score_)\n",
    "print(grid_tree.best_estimator_)"
   ]
  },
  {
   "cell_type": "markdown",
   "metadata": {},
   "source": [
    "5. Linear Regression"
   ]
  },
  {
   "cell_type": "code",
   "execution_count": 22,
   "metadata": {},
   "outputs": [],
   "source": [
    "lin_reg = LinearRegression()"
   ]
  },
  {
   "cell_type": "code",
   "execution_count": 23,
   "metadata": {},
   "outputs": [
    {
     "name": "stdout",
     "output_type": "stream",
     "text": [
      "Fitting 10 folds for each of 8 candidates, totalling 80 fits\n"
     ]
    },
    {
     "name": "stderr",
     "output_type": "stream",
     "text": [
      "[Parallel(n_jobs=-1)]: Using backend LokyBackend with 8 concurrent workers.\n",
      "[Parallel(n_jobs=-1)]: Done  34 tasks      | elapsed:    0.1s\n",
      "[Parallel(n_jobs=-1)]: Done  80 out of  80 | elapsed:    0.1s finished\n"
     ]
    },
    {
     "data": {
      "text/plain": [
       "GridSearchCV(cv=10, estimator=LinearRegression(), n_jobs=-1,\n",
       "             param_grid={'copy_X': ['True', 'False'],\n",
       "                         'fit_intercept': ['True', 'False'],\n",
       "                         'normalize': ['True', 'False']},\n",
       "             verbose=2)"
      ]
     },
     "execution_count": 23,
     "metadata": {},
     "output_type": "execute_result"
    }
   ],
   "source": [
    "lin_params = {\n",
    "    'fit_intercept': ['True','False'],\n",
    "    'normalize': ['True','False'],\n",
    "    'copy_X': ['True','False']\n",
    "}\n",
    "grid_lin = GridSearchCV(lin_reg, lin_params, cv=10, verbose=2, n_jobs=-1)\n",
    "grid_lin.fit(X_train, y_train)"
   ]
  },
  {
   "cell_type": "code",
   "execution_count": 24,
   "metadata": {},
   "outputs": [
    {
     "name": "stdout",
     "output_type": "stream",
     "text": [
      "{'copy_X': 'True', 'fit_intercept': 'True', 'normalize': 'True'}\n",
      "0.7111933290811772\n",
      "LinearRegression(copy_X='True', fit_intercept='True', normalize='True')\n"
     ]
    }
   ],
   "source": [
    "print(grid_lin.best_params_)\n",
    "print(grid_lin.best_score_)\n",
    "print(grid_lin.best_estimator_)"
   ]
  },
  {
   "cell_type": "markdown",
   "metadata": {},
   "source": [
    "6. ЛГБМ"
   ]
  },
  {
   "cell_type": "code",
   "execution_count": 25,
   "metadata": {},
   "outputs": [],
   "source": [
    "lgbm_reg = LGBMRegressor()"
   ]
  },
  {
   "cell_type": "code",
   "execution_count": 26,
   "metadata": {},
   "outputs": [
    {
     "name": "stdout",
     "output_type": "stream",
     "text": [
      "Fitting 10 folds for each of 796 candidates, totalling 7960 fits\n"
     ]
    },
    {
     "name": "stderr",
     "output_type": "stream",
     "text": [
      "[Parallel(n_jobs=-1)]: Using backend LokyBackend with 8 concurrent workers.\n",
      "[Parallel(n_jobs=-1)]: Done  25 tasks      | elapsed:    2.3s\n",
      "[Parallel(n_jobs=-1)]: Done 672 tasks      | elapsed:    5.9s\n",
      "[Parallel(n_jobs=-1)]: Done 1701 tasks      | elapsed:   19.7s\n",
      "[Parallel(n_jobs=-1)]: Done 1984 tasks      | elapsed:   25.5s\n",
      "[Parallel(n_jobs=-1)]: Done 3477 tasks      | elapsed:   41.4s\n",
      "[Parallel(n_jobs=-1)]: Done 3922 tasks      | elapsed:   53.5s\n",
      "[Parallel(n_jobs=-1)]: Done 7376 tasks      | elapsed:  1.2min\n",
      "[Parallel(n_jobs=-1)]: Done 7960 out of 7960 | elapsed:  1.2min finished\n"
     ]
    },
    {
     "data": {
      "text/plain": [
       "GridSearchCV(cv=10, estimator=LGBMRegressor(), n_jobs=-1,\n",
       "             param_grid={'boosting_type': ['gbdt', 'dart', 'goss', 'rf'],\n",
       "                         'n_estimators': range(1, 200)},\n",
       "             verbose=2)"
      ]
     },
     "execution_count": 26,
     "metadata": {},
     "output_type": "execute_result"
    }
   ],
   "source": [
    "lgbm_params = {\n",
    "    'boosting_type': ['gbdt','dart','goss', 'rf'],\n",
    "    'n_estimators': range(1, 200)\n",
    "    \n",
    "}\n",
    "grid_lgbm = GridSearchCV(lgbm_reg, lgbm_params, cv=10, verbose=2, n_jobs=-1)\n",
    "grid_lgbm.fit(X_train, y_train)"
   ]
  },
  {
   "cell_type": "code",
   "execution_count": 27,
   "metadata": {},
   "outputs": [
    {
     "name": "stdout",
     "output_type": "stream",
     "text": [
      "{'boosting_type': 'gbdt', 'n_estimators': 199}\n",
      "0.8658045206126703\n",
      "LGBMRegressor(n_estimators=199)\n"
     ]
    }
   ],
   "source": [
    "print(grid_lgbm.best_params_)\n",
    "print(grid_lgbm.best_score_)\n",
    "print(grid_lgbm.best_estimator_)"
   ]
  },
  {
   "cell_type": "markdown",
   "metadata": {},
   "source": [
    "7.ElasticNet"
   ]
  },
  {
   "cell_type": "code",
   "execution_count": 31,
   "metadata": {},
   "outputs": [],
   "source": [
    "elast_reg = ElasticNet()"
   ]
  },
  {
   "cell_type": "code",
   "execution_count": 32,
   "metadata": {},
   "outputs": [
    {
     "name": "stdout",
     "output_type": "stream",
     "text": [
      "Fitting 10 folds for each of 10000 candidates, totalling 100000 fits\n"
     ]
    },
    {
     "name": "stderr",
     "output_type": "stream",
     "text": [
      "[Parallel(n_jobs=-1)]: Using backend LokyBackend with 8 concurrent workers.\n",
      "[Parallel(n_jobs=-1)]: Done  34 tasks      | elapsed:    0.1s\n",
      "[Parallel(n_jobs=-1)]: Done 2608 tasks      | elapsed:    3.1s\n",
      "[Parallel(n_jobs=-1)]: Done 9104 tasks      | elapsed:    9.6s\n",
      "[Parallel(n_jobs=-1)]: Done 18160 tasks      | elapsed:   18.8s\n",
      "[Parallel(n_jobs=-1)]: Done 29840 tasks      | elapsed:   30.7s\n",
      "[Parallel(n_jobs=-1)]: Done 44080 tasks      | elapsed:   44.7s\n",
      "[Parallel(n_jobs=-1)]: Done 60944 tasks      | elapsed:  1.0min\n",
      "[Parallel(n_jobs=-1)]: Done 80368 tasks      | elapsed:  1.3min\n",
      "[Parallel(n_jobs=-1)]: Done 100000 out of 100000 | elapsed:  1.6min finished\n",
      "C:\\Users\\daria\\anaconda3\\lib\\site-packages\\sklearn\\linear_model\\_coordinate_descent.py:529: ConvergenceWarning: Objective did not converge. You might want to increase the number of iterations. Duality gap: 4851.140901483386, tolerance: 3.517414799504951\n",
      "  model = cd_fast.enet_coordinate_descent(\n"
     ]
    },
    {
     "data": {
      "text/plain": [
       "GridSearchCV(cv=10, estimator=ElasticNet(), n_jobs=-1,\n",
       "             param_grid={'alpha': array([1.00000000e-07, 1.10975250e-07, 1.23155060e-07, 1.36671636e-07,\n",
       "       1.51671689e-07, 1.68318035e-07, 1.86791360e-07, 2.07292178e-07,\n",
       "       2.30043012e-07, 2.55290807e-07, 2.83309610e-07, 3.14403547e-07,\n",
       "       3.48910121e-07, 3.87203878e-07, 4.29700470e-07, 4.76861170e-07,\n",
       "       5.29197874e-07, 5.87278661e-07, 6...\n",
       "       0.30612245, 0.32653061, 0.34693878, 0.36734694, 0.3877551 ,\n",
       "       0.40816327, 0.42857143, 0.44897959, 0.46938776, 0.48979592,\n",
       "       0.51020408, 0.53061224, 0.55102041, 0.57142857, 0.59183673,\n",
       "       0.6122449 , 0.63265306, 0.65306122, 0.67346939, 0.69387755,\n",
       "       0.71428571, 0.73469388, 0.75510204, 0.7755102 , 0.79591837,\n",
       "       0.81632653, 0.83673469, 0.85714286, 0.87755102, 0.89795918,\n",
       "       0.91836735, 0.93877551, 0.95918367, 0.97959184, 1.        ])},\n",
       "             verbose=2)"
      ]
     },
     "execution_count": 32,
     "metadata": {},
     "output_type": "execute_result"
    }
   ],
   "source": [
    "elast_reg = ElasticNet()\n",
    "elast_params = {\n",
    "    'alpha': np.logspace(-7, 2, 200),\n",
    "    'l1_ratio': np.linspace(0, 1, 50)\n",
    "}\n",
    "grid_elast = GridSearchCV(elast_reg, elast_params, cv=10, verbose=2, n_jobs=-1)\n",
    "grid_elast.fit(X_train, y_train)"
   ]
  },
  {
   "cell_type": "code",
   "execution_count": 33,
   "metadata": {},
   "outputs": [
    {
     "name": "stdout",
     "output_type": "stream",
     "text": [
      "{'alpha': 0.02409403560239527, 'l1_ratio': 0.0}\n",
      "0.7125035386799068\n",
      "ElasticNet(alpha=0.02409403560239527, l1_ratio=0.0)\n"
     ]
    }
   ],
   "source": [
    "print(grid_elast.best_params_)\n",
    "print(grid_elast.best_score_)\n",
    "print(grid_elast.best_estimator_)"
   ]
  },
  {
   "cell_type": "code",
   "execution_count": 34,
   "metadata": {},
   "outputs": [],
   "source": [
    "estimators = {\n",
    "    'rige': grid_rige,\n",
    "    'lasso': grid_lasso,\n",
    "    'huber': grid_huber,\n",
    "    'tree': grid_tree,\n",
    "    'linear': grid_lin,\n",
    "    'lgbm': grid_lgbm,\n",
    "    'elasticNet': grid_elast,\n",
    "}"
   ]
  },
  {
   "cell_type": "code",
   "execution_count": 35,
   "metadata": {},
   "outputs": [
    {
     "name": "stdout",
     "output_type": "stream",
     "text": [
      "rige CV R^2: 0.7125487705221236 Validation R^2: 0.7387131201190574\n",
      "lasso CV R^2: 0.7116179553575928 Validation R^2: 0.7363042751792315\n",
      "huber CV R^2: 0.7081654333076002 Validation R^2: 0.7677914914396144\n",
      "tree CV R^2: 0.7884493345356298 Validation R^2: 0.7995098875674806\n",
      "linear CV R^2: 0.7111933290811772 Validation R^2: 0.7331236437248793\n",
      "lgbm CV R^2: 0.8658045206126703 Validation R^2: 0.8415122228288008\n",
      "elasticNet CV R^2: 0.7125035386799068 Validation R^2: 0.739009620662129\n"
     ]
    }
   ],
   "source": [
    "for k in estimators:\n",
    "    v = estimators[k]\n",
    "    print(k, \"CV R^2:\", v.best_score_, \"Validation R^2:\", v.best_estimator_.score(X_valid, y_valid))"
   ]
  },
  {
   "cell_type": "code",
   "execution_count": null,
   "metadata": {},
   "outputs": [],
   "source": []
  }
 ],
 "metadata": {
  "kernelspec": {
   "display_name": "Python 3",
   "language": "python",
   "name": "python3"
  },
  "language_info": {
   "codemirror_mode": {
    "name": "ipython",
    "version": 3
   },
   "file_extension": ".py",
   "mimetype": "text/x-python",
   "name": "python",
   "nbconvert_exporter": "python",
   "pygments_lexer": "ipython3",
   "version": "3.8.5"
  }
 },
 "nbformat": 4,
 "nbformat_minor": 4
}
